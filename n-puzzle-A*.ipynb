{
 "cells": [
  {
   "cell_type": "markdown",
   "metadata": {
    "vscode": {
     "languageId": "plaintext"
    }
   },
   "source": [
    "\n",
    "Copyright **`(c)`** 2024 Giovanni Squillero `<giovanni.squillero@polito.it>`  \n",
    "[`https://github.com/squillero/computational-intelligence`](https://github.com/squillero/computational-intelligence)  \n",
    "Free under certain conditions — see the [`license`](https://github.com/squillero/computational-intelligence/blob/master/LICENSE.md) for details.  "
   ]
  },
  {
   "cell_type": "code",
   "execution_count": 78,
   "metadata": {},
   "outputs": [],
   "source": [
    "from collections import deque, namedtuple\n",
    "from random import choice\n",
    "from tqdm.auto import tqdm\n",
    "import numpy as np\n",
    "import heapq\n",
    "import copy\n",
    "import random\n"
   ]
  },
  {
   "cell_type": "code",
   "execution_count": 79,
   "metadata": {},
   "outputs": [],
   "source": [
    "PUZZLE_DIM = 4\n",
    "action = namedtuple('Action', ['pos1', 'pos2'])"
   ]
  },
  {
   "cell_type": "code",
   "execution_count": 80,
   "metadata": {},
   "outputs": [],
   "source": [
    "### Determina le possibili mosse per la casella vuota.\n",
    "def available_actions(state: np.ndarray) -> list['Action']:\n",
    "    x, y = [int(_[0]) for _ in np.where(state == 0)] # find the position of the empty tile\n",
    "    actions = list()\n",
    "\n",
    "    # controlla le possibili direzioni in cui la casella vuota può muoversi (su, giù, sinistra, destra)\n",
    "    # Se è possibile muoversi in quella direzione, aggiunge l'azione corrispondente alla lista actions.\n",
    "    if x > 0:\n",
    "        actions.append(action((x, y), (x - 1, y)))\n",
    "    if x < PUZZLE_DIM - 1:\n",
    "        actions.append(action((x, y), (x + 1, y)))\n",
    "    if y > 0:\n",
    "        actions.append(action((x, y), (x, y - 1)))\n",
    "    if y < PUZZLE_DIM - 1:\n",
    "        actions.append(action((x, y), (x, y + 1)))\n",
    "    return actions\n",
    "\n",
    "\n",
    "# scambia la posizione del pezzo vuoto con un'altra casella\n",
    "def do_action(state: np.ndarray, action: 'Action') -> np.ndarray:\n",
    "    new_state = state.copy()\n",
    "    new_state[action.pos1], new_state[action.pos2] = new_state[action.pos2], new_state[action.pos1]\n",
    "    return new_state"
   ]
  },
  {
   "cell_type": "code",
   "execution_count": 81,
   "metadata": {},
   "outputs": [
    {
     "data": {
      "application/vnd.jupyter.widget-view+json": {
       "model_id": "61f3fb2b6c354318b35f8278236795f9",
       "version_major": 2,
       "version_minor": 0
      },
      "text/plain": [
       "Randomizing:   0%|          | 0/10000 [00:00<?, ?it/s]"
      ]
     },
     "metadata": {},
     "output_type": "display_data"
    },
    {
     "data": {
      "text/plain": [
       "array([[ 7,  3,  2,  9],\n",
       "       [10,  8,  4, 12],\n",
       "       [ 1, 13,  0,  6],\n",
       "       [ 5, 14, 11, 15]])"
      ]
     },
     "execution_count": 81,
     "metadata": {},
     "output_type": "execute_result"
    }
   ],
   "source": [
    "RANDOMIZE_STEPS = 10_000\n",
    "state = np.array([i for i in range(1, PUZZLE_DIM**2)] + [0]).reshape((PUZZLE_DIM, PUZZLE_DIM))\n",
    "for r in tqdm(range(RANDOMIZE_STEPS), desc='Randomizing'):\n",
    "    state = do_action(state, choice(available_actions(state)))\n",
    "state"
   ]
  },
  {
   "cell_type": "code",
   "execution_count": 82,
   "metadata": {},
   "outputs": [
    {
     "name": "stdout",
     "output_type": "stream",
     "text": [
      "Numero di step per arrivare alla soluzione: 48\n",
      "Numero di azioni fatte per arrivare alla soluzione: 28758\n",
      "Soluzione trovata:\n",
      "[1 2 3 4]\n",
      "[5 6 7 8]\n",
      "[ 9 10 11 12]\n",
      "[13 14 15  0]\n"
     ]
    }
   ],
   "source": [
    "class PuzzleState:\n",
    "    def __init__(self, board, empty_pos, g, prev=None):\n",
    "        self.board = board\n",
    "        self.empty_pos = empty_pos\n",
    "        self.g = g  # Costo dal nodo \n",
    "        self.prev = prev\n",
    "        self.h = self.calculate_heuristic()\n",
    "        self.f = self.g + self.h\n",
    "\n",
    "    def calculate_heuristic(self, alternative=False):\n",
    "        # Distanza di Manhattan e Misplaced Tiles\n",
    "        h_manhattan = 0\n",
    "        misplaced_tiles = 0\n",
    "        for i in range(len(self.board)):\n",
    "            for j in range(len(self.board[i])):\n",
    "                value = self.board[i][j]\n",
    "                if value != 0:\n",
    "                    target_x = (value - 1) // len(self.board)\n",
    "                    target_y = (value - 1) % len(self.board)\n",
    "                    if alternative:\n",
    "                        # Alternativa: distanza di Manhattan ponderata\n",
    "                        h_manhattan += 1.2 * (abs(target_x - i) + abs(target_y - j))\n",
    "                    else:\n",
    "                        h_manhattan += abs(target_x - i) + abs(target_y - j)\n",
    "                    # Contare i misplaced tiles\n",
    "                    if (i, j) != (target_x, target_y):\n",
    "                        misplaced_tiles += 1\n",
    "\n",
    "        # Combinare le due euristiche\n",
    "        weight = 1  # Peso misplaced tiles\n",
    "        h_combined = h_manhattan + weight * misplaced_tiles\n",
    "        return h_combined\n",
    "\n",
    "\n",
    "    def update_heuristic(self, alternative=False):\n",
    "        self.h = self.calculate_heuristic(alternative)\n",
    "        self.f = self.g + self.h\n",
    "\n",
    "    def get_neighbors(self, alternative_heuristic=False):\n",
    "        neighbors = []\n",
    "        x, y = self.empty_pos\n",
    "        directions = [(-1, 0), (1, 0), (0, -1), (0, 1)]\n",
    "\n",
    "        for dx, dy in directions:\n",
    "            new_x, new_y = x + dx, y + dy\n",
    "            if 0 <= new_x < len(self.board) and 0 <= new_y < len(self.board[0]):\n",
    "                new_board = self.board.copy()\n",
    "                new_board[x][y], new_board[new_x][new_y] = new_board[new_x][new_y], new_board[x][y]\n",
    "                neighbor = PuzzleState(new_board, (new_x, new_y), self.g + 0.7, self)\n",
    "                neighbor.update_heuristic(alternative_heuristic)\n",
    "                neighbors.append(neighbor)\n",
    "        return neighbors\n",
    "\n",
    "    def is_goal(self):\n",
    "        n = len(self.board)\n",
    "        goal = np.array([[n * i + j + 1 for j in range(n)] for i in range(n)])\n",
    "        goal[-1][-1] = 0\n",
    "        return np.array_equal(self.board, goal)\n",
    "\n",
    "    def __lt__(self, other):\n",
    "        return self.f < other.f\n",
    "\n",
    "def a_star(initial_board, max_iterations_without_improvement=7000):\n",
    "    n = len(initial_board)\n",
    "    empty_pos = None\n",
    "    for i in range(n):\n",
    "        for j in range(n):\n",
    "            if initial_board[i][j] == 0:\n",
    "                empty_pos = (i, j)\n",
    "                break\n",
    "\n",
    "    start_state = PuzzleState(initial_board, empty_pos, 0)\n",
    "    open_list = []\n",
    "    heapq.heappush(open_list, start_state)\n",
    "    closed_set = set()\n",
    "    actions_count = 0  \n",
    "    iterations_without_improvement = 0\n",
    "    previous_best_f = float('inf')\n",
    "    use_alternative_heuristic = False\n",
    "\n",
    "    while open_list:\n",
    "        current_state = heapq.heappop(open_list)\n",
    "\n",
    "        if current_state.is_goal():\n",
    "            return reconstruct_path(current_state), actions_count\n",
    "\n",
    "        closed_set.add(tuple(map(tuple, current_state.board)))\n",
    "\n",
    "        # Controlla costo f è migliorato\n",
    "        if current_state.f < previous_best_f:\n",
    "            previous_best_f = current_state.f\n",
    "            iterations_without_improvement = 0\n",
    "        else:\n",
    "            iterations_without_improvement += 1\n",
    "\n",
    "        # Cambia l'euristica se non c'è miglioramento \n",
    "        if iterations_without_improvement >= max_iterations_without_improvement:\n",
    "            use_alternative_heuristic = not use_alternative_heuristic\n",
    "            iterations_without_improvement = 0\n",
    "\n",
    "        for neighbor in current_state.get_neighbors(use_alternative_heuristic):\n",
    "            actions_count += 1  # Incrementare contatore azioni\n",
    "            if tuple(map(tuple, neighbor.board)) in closed_set:\n",
    "                continue\n",
    "            heapq.heappush(open_list, neighbor)\n",
    "\n",
    "    return None, actions_count\n",
    "\n",
    "def reconstruct_path(state):\n",
    "    path = []\n",
    "    while state:\n",
    "        path.append(state.board)\n",
    "        state = state.prev\n",
    "    return path[::-1]\n",
    "\n",
    "solution, actions_count = a_star(state)\n",
    "\n",
    "if solution:\n",
    "    print(f\"Numero di step per arrivare alla soluzione: {len(solution) - 1}\")  # quality \n",
    "    print(f\"Numero di azioni fatte per arrivare alla soluzione: {actions_count}\")  # cost \n",
    "    print(\"Soluzione trovata:\")\n",
    "    for row in solution[-1]:\n",
    "        print(row)\n",
    "else:\n",
    "    print(\"Nessuna soluzione trovata.\")"
   ]
  },
  {
   "cell_type": "code",
   "execution_count": null,
   "metadata": {},
   "outputs": [],
   "source": [
    "\n",
    " "
   ]
  }
 ],
 "metadata": {
  "kernelspec": {
   "display_name": "CI-2024",
   "language": "python",
   "name": "python3"
  },
  "language_info": {
   "codemirror_mode": {
    "name": "ipython",
    "version": 3
   },
   "file_extension": ".py",
   "mimetype": "text/x-python",
   "name": "python",
   "nbconvert_exporter": "python",
   "pygments_lexer": "ipython3",
   "version": "3.13.0"
  }
 },
 "nbformat": 4,
 "nbformat_minor": 2
}
